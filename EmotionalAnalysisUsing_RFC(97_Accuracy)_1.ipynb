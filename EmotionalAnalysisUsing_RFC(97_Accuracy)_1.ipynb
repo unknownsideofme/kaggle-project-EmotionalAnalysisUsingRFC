{
  "metadata": {
    "kernelspec": {
      "language": "python",
      "display_name": "Python 3",
      "name": "python3"
    },
    "language_info": {
      "name": "python",
      "version": "3.10.13",
      "mimetype": "text/x-python",
      "codemirror_mode": {
        "name": "ipython",
        "version": 3
      },
      "pygments_lexer": "ipython3",
      "nbconvert_exporter": "python",
      "file_extension": ".py"
    },
    "kaggle": {
      "accelerator": "none",
      "dataSources": [
        {
          "sourceId": 8460631,
          "sourceType": "datasetVersion",
          "datasetId": 5043355
        }
      ],
      "dockerImageVersionId": 30715,
      "isInternetEnabled": false,
      "language": "python",
      "sourceType": "notebook",
      "isGpuEnabled": false
    },
    "colab": {
      "name": "EmotionalAnalysisUsing RFC(97%Accuracy)",
      "provenance": []
    }
  },
  "nbformat_minor": 0,
  "nbformat": 4,
  "cells": [
    {
      "source": [
        "\n",
        "# IMPORTANT: RUN THIS CELL IN ORDER TO IMPORT YOUR KAGGLE DATA SOURCES\n",
        "# TO THE CORRECT LOCATION (/kaggle/input) IN YOUR NOTEBOOK,\n",
        "# THEN FEEL FREE TO DELETE THIS CELL.\n",
        "# NOTE: THIS NOTEBOOK ENVIRONMENT DIFFERS FROM KAGGLE'S PYTHON\n",
        "# ENVIRONMENT SO THERE MAY BE MISSING LIBRARIES USED BY YOUR\n",
        "# NOTEBOOK.\n",
        "\n",
        "import os\n",
        "import sys\n",
        "from tempfile import NamedTemporaryFile\n",
        "from urllib.request import urlopen\n",
        "from urllib.parse import unquote, urlparse\n",
        "from urllib.error import HTTPError\n",
        "from zipfile import ZipFile\n",
        "import tarfile\n",
        "import shutil\n",
        "\n",
        "CHUNK_SIZE = 40960\n",
        "DATA_SOURCE_MAPPING = 'social-media-usage-and-emotional-well-being:https%3A%2F%2Fstorage.googleapis.com%2Fkaggle-data-sets%2F5043355%2F8460631%2Fbundle%2Farchive.zip%3FX-Goog-Algorithm%3DGOOG4-RSA-SHA256%26X-Goog-Credential%3Dgcp-kaggle-com%2540kaggle-161607.iam.gserviceaccount.com%252F20240602%252Fauto%252Fstorage%252Fgoog4_request%26X-Goog-Date%3D20240602T155958Z%26X-Goog-Expires%3D259200%26X-Goog-SignedHeaders%3Dhost%26X-Goog-Signature%3D2b58ff96b03ea41e0e89ee0d11e9d9e130e6b8240902e4189d46257fd78470189fd2280dd05c15b5b689c5d18a4288a52f5f7126771bdf80fd5c2cd369684ac3e5699575947a2fd281caa809172d885a1589ee990392d0083966475fbb65308826ef871fc564b3ddd05f8adedffad98d3edb6769482233cce8271e676b34acec537c9bd490c8183cab4adf907ccb1a929f9779a9023a3c77b01d9cc9b80d8bfd98b9b624635e00b91c0f8626bfc46eb0f5dc5c9b08e750c3d1b237a0555ffa71f4c416fb3c117db5a061c164ac1bdd54e69f818be19ff211a6f3f2f23aa67c2d80ba81ae9565316d428357331c8ae11d6eed1a32ddbaf6825a6a14f9d4a53a38'\n",
        "\n",
        "KAGGLE_INPUT_PATH='/kaggle/input'\n",
        "KAGGLE_WORKING_PATH='/kaggle/working'\n",
        "KAGGLE_SYMLINK='kaggle'\n",
        "\n",
        "!umount /kaggle/input/ 2> /dev/null\n",
        "shutil.rmtree('/kaggle/input', ignore_errors=True)\n",
        "os.makedirs(KAGGLE_INPUT_PATH, 0o777, exist_ok=True)\n",
        "os.makedirs(KAGGLE_WORKING_PATH, 0o777, exist_ok=True)\n",
        "\n",
        "try:\n",
        "  os.symlink(KAGGLE_INPUT_PATH, os.path.join(\"..\", 'input'), target_is_directory=True)\n",
        "except FileExistsError:\n",
        "  pass\n",
        "try:\n",
        "  os.symlink(KAGGLE_WORKING_PATH, os.path.join(\"..\", 'working'), target_is_directory=True)\n",
        "except FileExistsError:\n",
        "  pass\n",
        "\n",
        "for data_source_mapping in DATA_SOURCE_MAPPING.split(','):\n",
        "    directory, download_url_encoded = data_source_mapping.split(':')\n",
        "    download_url = unquote(download_url_encoded)\n",
        "    filename = urlparse(download_url).path\n",
        "    destination_path = os.path.join(KAGGLE_INPUT_PATH, directory)\n",
        "    try:\n",
        "        with urlopen(download_url) as fileres, NamedTemporaryFile() as tfile:\n",
        "            total_length = fileres.headers['content-length']\n",
        "            print(f'Downloading {directory}, {total_length} bytes compressed')\n",
        "            dl = 0\n",
        "            data = fileres.read(CHUNK_SIZE)\n",
        "            while len(data) > 0:\n",
        "                dl += len(data)\n",
        "                tfile.write(data)\n",
        "                done = int(50 * dl / int(total_length))\n",
        "                sys.stdout.write(f\"\\r[{'=' * done}{' ' * (50-done)}] {dl} bytes downloaded\")\n",
        "                sys.stdout.flush()\n",
        "                data = fileres.read(CHUNK_SIZE)\n",
        "            if filename.endswith('.zip'):\n",
        "              with ZipFile(tfile) as zfile:\n",
        "                zfile.extractall(destination_path)\n",
        "            else:\n",
        "              with tarfile.open(tfile.name) as tarfile:\n",
        "                tarfile.extractall(destination_path)\n",
        "            print(f'\\nDownloaded and uncompressed: {directory}')\n",
        "    except HTTPError as e:\n",
        "        print(f'Failed to load (likely expired) {download_url} to path {destination_path}')\n",
        "        continue\n",
        "    except OSError as e:\n",
        "        print(f'Failed to load {download_url} to path {destination_path}')\n",
        "        continue\n",
        "\n",
        "print('Data source import complete.')\n"
      ],
      "metadata": {
        "id": "NZT_6avOBT-p"
      },
      "cell_type": "code",
      "outputs": [],
      "execution_count": null
    },
    {
      "cell_type": "code",
      "source": [
        "# This Python 3 environment comes with many helpful analytics libraries installed\n",
        "# It is defined by the kaggle/python Docker image: https://github.com/kaggle/docker-python\n",
        "# For example, here's several helpful packages to load\n",
        "\n",
        "import numpy as np\n",
        "import pandas as pd\n",
        "from sklearn.neighbors import KNeighborsClassifier\n",
        "from sklearn.preprocessing import OneHotEncoder\n",
        "from sklearn.preprocessing import StandardScaler\n",
        "import seaborn as sns\n",
        "import matplotlib.pyplot as plt\n",
        "from sklearn.svm import SVC\n",
        "from sklearn.model_selection import train_test_split\n",
        "from sklearn.linear_model import LinearRegression\n",
        "import math\n",
        "from sklearn.linear_model import LogisticRegression\n",
        "from sklearn.naive_bayes import GaussianNB\n",
        "from sklearn.tree import DecisionTreeClassifier\n",
        "from sklearn.ensemble import RandomForestClassifier\n",
        "\n",
        "# Input data files are available in the read-only \"../input/\" directory\n",
        "# For example, running this (by clicking run or pressing Shift+Enter) will list all files under the input directory\n",
        "\n",
        "import os\n",
        "for dirname, _, filenames in os.walk('/kaggle/input'):\n",
        "    for filename in filenames:\n",
        "        print(os.path.join(dirname, filename))\n",
        "\n",
        "# You can write up to 20GB to the current directory (/kaggle/working/) that gets preserved as output when you create a version using \"Save & Run All\"\n",
        "# You can also write temporary files to /kaggle/temp/, but they won't be saved outside of the current session"
      ],
      "metadata": {
        "_uuid": "8f2839f25d086af736a60e9eeb907d3b93b6e0e5",
        "_cell_guid": "b1076dfc-b9ad-4769-8c92-a6c4dae69d19",
        "execution": {
          "iopub.status.busy": "2024-06-02T14:49:42.399598Z",
          "iopub.execute_input": "2024-06-02T14:49:42.400082Z",
          "iopub.status.idle": "2024-06-02T14:49:42.413485Z",
          "shell.execute_reply.started": "2024-06-02T14:49:42.400051Z",
          "shell.execute_reply": "2024-06-02T14:49:42.41212Z"
        },
        "trusted": true,
        "id": "dY_XNIHsBT-q"
      },
      "execution_count": null,
      "outputs": []
    },
    {
      "cell_type": "code",
      "source": [
        "#Here I am using only the training values for both testing and training purpose\n",
        "train_df = pd.read_csv('/kaggle/input/social-media-usage-and-emotional-well-being/train.csv',\n",
        "                       on_bad_lines='skip')\n"
      ],
      "metadata": {
        "execution": {
          "iopub.status.busy": "2024-06-02T14:49:42.416235Z",
          "iopub.execute_input": "2024-06-02T14:49:42.416943Z",
          "iopub.status.idle": "2024-06-02T14:49:42.434162Z",
          "shell.execute_reply.started": "2024-06-02T14:49:42.416909Z",
          "shell.execute_reply": "2024-06-02T14:49:42.432793Z"
        },
        "trusted": true,
        "id": "p8fdlu2IBT-q"
      },
      "execution_count": null,
      "outputs": []
    },
    {
      "cell_type": "code",
      "source": [
        "print(train_df.head())\n",
        "\n",
        "print(train_df.isnull().sum())"
      ],
      "metadata": {
        "execution": {
          "iopub.status.busy": "2024-06-02T14:49:42.43584Z",
          "iopub.execute_input": "2024-06-02T14:49:42.436658Z",
          "iopub.status.idle": "2024-06-02T14:49:42.452117Z",
          "shell.execute_reply.started": "2024-06-02T14:49:42.436602Z",
          "shell.execute_reply": "2024-06-02T14:49:42.451034Z"
        },
        "trusted": true,
        "id": "OdfzA97lBT-q"
      },
      "execution_count": null,
      "outputs": []
    },
    {
      "cell_type": "code",
      "source": [
        "train_df.dropna(inplace=True)\n",
        "print(train_df.isnull().sum())"
      ],
      "metadata": {
        "execution": {
          "iopub.status.busy": "2024-06-02T14:49:42.45382Z",
          "iopub.execute_input": "2024-06-02T14:49:42.454231Z",
          "iopub.status.idle": "2024-06-02T14:49:42.472089Z",
          "shell.execute_reply.started": "2024-06-02T14:49:42.454198Z",
          "shell.execute_reply": "2024-06-02T14:49:42.470755Z"
        },
        "trusted": true,
        "id": "nQT3hl8kBT-r"
      },
      "execution_count": null,
      "outputs": []
    },
    {
      "cell_type": "code",
      "source": [
        "\n",
        "#also gender has invalid data\n",
        "train_df['Gender'] = train_df['Gender'].str.strip().str.lower()\n",
        "train_df['Gender'].unique()\n",
        "\n",
        "\n"
      ],
      "metadata": {
        "execution": {
          "iopub.status.busy": "2024-06-02T14:49:42.474987Z",
          "iopub.execute_input": "2024-06-02T14:49:42.475377Z",
          "iopub.status.idle": "2024-06-02T14:49:42.48742Z",
          "shell.execute_reply.started": "2024-06-02T14:49:42.475343Z",
          "shell.execute_reply": "2024-06-02T14:49:42.486155Z"
        },
        "trusted": true,
        "id": "7M3qvmEyBT-r"
      },
      "execution_count": null,
      "outputs": []
    },
    {
      "cell_type": "code",
      "source": [
        "valid_genders = ['male', 'female', 'non-binary']\n",
        "train_df = train_df[train_df['Gender'].isin(valid_genders)]\n",
        "train_df['Gender'].unique()"
      ],
      "metadata": {
        "execution": {
          "iopub.status.busy": "2024-06-02T14:49:42.489145Z",
          "iopub.execute_input": "2024-06-02T14:49:42.489556Z",
          "iopub.status.idle": "2024-06-02T14:49:42.5006Z",
          "shell.execute_reply.started": "2024-06-02T14:49:42.489525Z",
          "shell.execute_reply": "2024-06-02T14:49:42.499317Z"
        },
        "trusted": true,
        "id": "-1cyDYvTBT-r"
      },
      "execution_count": null,
      "outputs": []
    },
    {
      "cell_type": "code",
      "source": [
        "#age also has invalid data\n",
        "train_df['Age'].unique()"
      ],
      "metadata": {
        "execution": {
          "iopub.status.busy": "2024-06-02T14:49:42.50215Z",
          "iopub.execute_input": "2024-06-02T14:49:42.502556Z",
          "iopub.status.idle": "2024-06-02T14:49:42.51433Z",
          "shell.execute_reply.started": "2024-06-02T14:49:42.502513Z",
          "shell.execute_reply": "2024-06-02T14:49:42.513133Z"
        },
        "trusted": true,
        "id": "gZRE_8t_BT-r"
      },
      "execution_count": null,
      "outputs": []
    },
    {
      "cell_type": "markdown",
      "source": [],
      "metadata": {
        "id": "C2zNSRsiBT-r"
      }
    },
    {
      "cell_type": "code",
      "source": [
        "fig=plt.figure(figsize=(25,25))\n",
        "\n",
        "\n",
        "ax=sns.countplot(x='Dominant_Emotion',data=train_df,hue= 'Gender')\n",
        "for p in ax.patches:\n",
        "    height = p.get_height()\n",
        "    ax.annotate(f'{height}', (p.get_x() + p.get_width() / 2., height),\n",
        "                ha='center', va='center', fontsize=12, color='black',\n",
        "                xytext=(0, 5), textcoords='offset points')\n",
        "\n",
        "plt.tight_layout()\n",
        "plt.grid()\n",
        "plt.show()"
      ],
      "metadata": {
        "execution": {
          "iopub.status.busy": "2024-06-02T14:49:42.516022Z",
          "iopub.execute_input": "2024-06-02T14:49:42.516571Z",
          "iopub.status.idle": "2024-06-02T14:49:43.382399Z",
          "shell.execute_reply.started": "2024-06-02T14:49:42.516531Z",
          "shell.execute_reply": "2024-06-02T14:49:43.380865Z"
        },
        "trusted": true,
        "id": "Kuy42Z6DBT-s"
      },
      "execution_count": null,
      "outputs": []
    },
    {
      "cell_type": "code",
      "source": [
        "ax2 =sns.countplot(x= 'Dominant_Emotion',data=train_df,hue = 'Platform')\n",
        "\n",
        "for p in ax2.patches:\n",
        "    height = p.get_height()\n",
        "    ax2.annotate(f'{height}', (p.get_x() + p.get_width() / 2., height),\n",
        "                ha='center', va='center', fontsize=8, color='black',\n",
        "                xytext=(0, 1), textcoords='offset points')\n",
        "\n",
        "plt.tight_layout()\n",
        "plt.grid()\n",
        "plt.show()"
      ],
      "metadata": {
        "execution": {
          "iopub.status.busy": "2024-06-02T14:49:43.383817Z",
          "iopub.execute_input": "2024-06-02T14:49:43.384285Z",
          "iopub.status.idle": "2024-06-02T14:49:44.040842Z",
          "shell.execute_reply.started": "2024-06-02T14:49:43.384251Z",
          "shell.execute_reply": "2024-06-02T14:49:44.039199Z"
        },
        "trusted": true,
        "id": "bewdyANIBT-s"
      },
      "execution_count": null,
      "outputs": []
    },
    {
      "cell_type": "code",
      "source": [
        "    # preparing data\n",
        "    one = OneHotEncoder(sparse_output=False)\n",
        "    #Gender Encoding\n",
        "    encoded_Gender = one.fit_transform(train_df[['Gender']])\n",
        "    labels = ['Female','Male','Non-Binary']\n",
        "    gender_df = pd.DataFrame(encoded_Gender,columns=labels)\n",
        "    print(gender_df)"
      ],
      "metadata": {
        "execution": {
          "iopub.status.busy": "2024-06-02T14:49:44.044379Z",
          "iopub.execute_input": "2024-06-02T14:49:44.044792Z",
          "iopub.status.idle": "2024-06-02T14:49:44.060607Z",
          "shell.execute_reply.started": "2024-06-02T14:49:44.044756Z",
          "shell.execute_reply": "2024-06-02T14:49:44.059395Z"
        },
        "trusted": true,
        "id": "mlHlT9NtBT-s"
      },
      "execution_count": null,
      "outputs": []
    },
    {
      "cell_type": "code",
      "source": [
        "#Encoding Platforms\n",
        "encoded_Platform  = one.fit_transform(train_df[['Platform']])\n",
        "labels_platform  = ['FaceBook','Instagram','LinkedIN','Snapchat','Telegram','Twitter','WhatsApp']\n",
        "platform_df= pd.DataFrame(encoded_Platform,columns=labels_platform)\n",
        "\n",
        "print(platform_df)\n",
        "\n",
        "\n",
        "\n",
        "\n"
      ],
      "metadata": {
        "execution": {
          "iopub.status.busy": "2024-06-02T14:49:44.062627Z",
          "iopub.execute_input": "2024-06-02T14:49:44.06309Z",
          "iopub.status.idle": "2024-06-02T14:49:44.086727Z",
          "shell.execute_reply.started": "2024-06-02T14:49:44.063055Z",
          "shell.execute_reply": "2024-06-02T14:49:44.08562Z"
        },
        "trusted": true,
        "id": "wzBVtNj8BT-s"
      },
      "execution_count": null,
      "outputs": []
    },
    {
      "cell_type": "markdown",
      "source": [
        "Since we require the data as numerics we have use one hot encoder to convert the data to numerics\n",
        "\n",
        "Moreover since we have this data as 0 or 1 we dont require to scale the data\n",
        "\n",
        "We will scale the rest of the data and then we will simply add these encoded columns at the end"
      ],
      "metadata": {
        "id": "4LeDBHoUBT-s"
      }
    },
    {
      "cell_type": "code",
      "source": [
        "y_train = train_df['Dominant_Emotion']\n",
        "x_train = train_df.drop(train_df[['Dominant_Emotion','Gender','Platform','User_ID']],axis =1)\n",
        "\n",
        "\n",
        "#Scaling data\n",
        "\n",
        "\n",
        "scale =StandardScaler()\n",
        "column = x_train.columns\n",
        "\n",
        "\n",
        "x_train = scale.fit_transform(x_train)\n",
        "scaled_x = pd.DataFrame(x_train , columns=column)\n",
        "scaled_x  =pd.concat([scaled_x,gender_df],axis=1)\n",
        "scaled_x = pd.concat([scaled_x,platform_df],axis=1)\n",
        "print(scaled_x.columns)\n",
        "train_x ,test_x , train_y , test_y = train_test_split(scaled_x,y_train,test_size=0.2,random_state=1)\n",
        "print(train_x.info())"
      ],
      "metadata": {
        "execution": {
          "iopub.status.busy": "2024-06-02T14:49:44.087998Z",
          "iopub.execute_input": "2024-06-02T14:49:44.088922Z",
          "iopub.status.idle": "2024-06-02T14:49:44.119634Z",
          "shell.execute_reply.started": "2024-06-02T14:49:44.088882Z",
          "shell.execute_reply": "2024-06-02T14:49:44.118617Z"
        },
        "trusted": true,
        "id": "p18Z2g6ABT-t"
      },
      "execution_count": null,
      "outputs": []
    },
    {
      "cell_type": "code",
      "source": [],
      "metadata": {
        "id": "yLBYeC5YBT-t"
      },
      "execution_count": null,
      "outputs": []
    },
    {
      "cell_type": "code",
      "source": [
        "# training a model\n",
        "scorelist = []\n",
        "namelist = []\n",
        "#using SVM Model\n",
        "svm =SVC(random_state=1)\n",
        "svm.fit(train_x,train_y)\n",
        "\n",
        "score = svm.score(test_x,test_y)*100\n",
        "scorelist.append (score)\n",
        "\n",
        "namelist.append (\"svm\")\n",
        "print(score)\n",
        "#Visulising Result\n",
        "x=np.arange(1,len(test_y)+1)\n",
        "sns.scatterplot(x=x,y=test_y,color = 'blue' ,data=None , alpha = 0.8)\n",
        "sns.scatterplot(x=x,y=svm.predict(test_x),data=None , color = 'orange',alpha = 0.6,marker = '*')\n",
        "plt.show()\n"
      ],
      "metadata": {
        "execution": {
          "iopub.status.busy": "2024-06-02T14:49:44.120938Z",
          "iopub.execute_input": "2024-06-02T14:49:44.121467Z",
          "iopub.status.idle": "2024-06-02T14:49:44.411789Z",
          "shell.execute_reply.started": "2024-06-02T14:49:44.121436Z",
          "shell.execute_reply": "2024-06-02T14:49:44.410587Z"
        },
        "trusted": true,
        "id": "VvPE5Ck0BT-t"
      },
      "execution_count": null,
      "outputs": []
    },
    {
      "cell_type": "code",
      "source": [
        "# using K Nearest Neighbour\n",
        "\n",
        "n= math.sqrt(len(train_x))\n",
        "n= math.floor(n)\n",
        "if(n%2==0 ):\n",
        "    n=n+1\n",
        "\n",
        "knn= KNeighborsClassifier(n_neighbors=n)\n",
        "\n",
        "knn.fit(train_x,train_y)\n",
        "\n",
        "\n",
        "score = knn.score(test_x,test_y)*100\n",
        "scorelist.append (score)\n",
        "\n",
        "namelist.append (\"knn\")\n",
        "\n",
        "print(score)\n",
        "#Visulising Result Accuracy\n",
        "x=np.arange(1,len(test_y)+1)\n",
        "sns.scatterplot(x=x,y=test_y,color = 'blue' , alpha = 0.8)\n",
        "sns.scatterplot(x=x,y=knn.predict(test_x),color = 'orange',alpha = 0.6,marker = '*')\n",
        "plt.title(\"K Nearest Neighbour\")\n",
        "plt.show()"
      ],
      "metadata": {
        "execution": {
          "iopub.status.busy": "2024-06-02T14:49:44.413536Z",
          "iopub.execute_input": "2024-06-02T14:49:44.414224Z",
          "iopub.status.idle": "2024-06-02T14:49:44.806851Z",
          "shell.execute_reply.started": "2024-06-02T14:49:44.414182Z",
          "shell.execute_reply": "2024-06-02T14:49:44.805534Z"
        },
        "trusted": true,
        "id": "TCEtaedIBT-t"
      },
      "execution_count": null,
      "outputs": []
    },
    {
      "cell_type": "code",
      "source": [
        "# using Logistic Regression\n",
        "log = LogisticRegression(random_state=1)\n",
        "log.fit(train_x,train_y)\n",
        "\n",
        "score = log.score(test_x,test_y)*100\n",
        "scorelist.append (score)\n",
        "print(score)\n",
        "\n",
        "namelist.append (\"log\")\n",
        "#Visualising the accuracy\n",
        "x=np.arange(1,len(test_y)+1)\n",
        "sns.scatterplot(x=x,y=test_y,color = 'blue' , alpha = 0.8)\n",
        "sns.scatterplot(x=x,y=log.predict(test_x),color = 'orange',alpha = 0.6,marker = '*')\n",
        "plt.title(\"Logistic Regression\")\n",
        "plt.show()"
      ],
      "metadata": {
        "execution": {
          "iopub.status.busy": "2024-06-02T14:49:44.808392Z",
          "iopub.execute_input": "2024-06-02T14:49:44.809023Z",
          "iopub.status.idle": "2024-06-02T14:49:45.379118Z",
          "shell.execute_reply.started": "2024-06-02T14:49:44.808989Z",
          "shell.execute_reply": "2024-06-02T14:49:45.377835Z"
        },
        "trusted": true,
        "id": "i5RSbNvMBT-u"
      },
      "execution_count": null,
      "outputs": []
    },
    {
      "cell_type": "code",
      "source": [
        "#using Naive Bayes\n",
        "\n",
        "nb = GaussianNB()\n",
        "nb.fit(train_x,train_y)\n",
        "\n",
        "score = nb.score(test_x,test_y)*100\n",
        "scorelist.append (score)\n",
        "\n",
        "namelist.append (\"NB\")\n",
        "print(score)\n",
        "#Visulising Result Accuracy\n",
        "x=np.arange(1,len(test_y)+1)\n",
        "sns.scatterplot(x=x,y=test_y,color = 'blue' , alpha = 0.8)\n",
        "sns.scatterplot(x=x,y=nb.predict(test_x),color = 'orange',alpha = 0.6,marker = '*')\n",
        "plt.title(\"Naive Bayes\")\n",
        "plt.show()"
      ],
      "metadata": {
        "execution": {
          "iopub.status.busy": "2024-06-02T14:49:45.380739Z",
          "iopub.execute_input": "2024-06-02T14:49:45.381071Z",
          "iopub.status.idle": "2024-06-02T14:49:45.640109Z",
          "shell.execute_reply.started": "2024-06-02T14:49:45.381044Z",
          "shell.execute_reply": "2024-06-02T14:49:45.638915Z"
        },
        "trusted": true,
        "id": "sOJ6zyglBT-u"
      },
      "execution_count": null,
      "outputs": []
    },
    {
      "cell_type": "code",
      "source": [
        "# using Decision Tree Classifier\n",
        "\n",
        "tree = DecisionTreeClassifier(random_state=1)\n",
        "\n",
        "tree.fit(train_x,train_y)\n",
        "\n",
        "score = tree.score(test_x,test_y)*100\n",
        "scorelist.append (score)\n",
        "\n",
        "namelist.append (\"DecTree\")\n",
        "print(score)\n",
        "#Visulising Result Accuracy\n",
        "x=np.arange(1,len(test_y)+1)\n",
        "sns.scatterplot(x=x,y=test_y,color = 'blue' , alpha = 0.8)\n",
        "sns.scatterplot(x=x,y=tree.predict(test_x),color = 'orange',alpha = 0.6,marker = '*')\n",
        "plt.title(\"Decision Tree Classifier\")\n",
        "plt.show()"
      ],
      "metadata": {
        "execution": {
          "iopub.status.busy": "2024-06-02T14:49:45.641473Z",
          "iopub.execute_input": "2024-06-02T14:49:45.642302Z",
          "iopub.status.idle": "2024-06-02T14:49:45.896213Z",
          "shell.execute_reply.started": "2024-06-02T14:49:45.642259Z",
          "shell.execute_reply": "2024-06-02T14:49:45.894988Z"
        },
        "trusted": true,
        "id": "LLMf5aV4BT-u"
      },
      "execution_count": null,
      "outputs": []
    },
    {
      "cell_type": "code",
      "source": [
        "# using random forest clasifier\n",
        "rfc= RandomForestClassifier(random_state=1)\n",
        "rfc.fit(train_x,train_y)\n",
        "\n",
        "score = rfc.score(test_x,test_y)*100\n",
        "scorelist.append (score)\n",
        "\n",
        "namelist.append (\"RFC\")\n",
        "print(score)\n",
        "\n",
        "#visualising accuracies\n",
        "#Visulising Result Acuracy\n",
        "x=np.arange(1,len(test_y)+1)\n",
        "sns.scatterplot(x=x,y=test_y,color = 'blue' , alpha = 0.8)\n",
        "sns.scatterplot(x=x,y=rfc.predict(test_x),color = 'orange',alpha = 0.6,marker = '*')\n",
        "plt.title(\"Random Forest Classifier\")\n",
        "plt.show()"
      ],
      "metadata": {
        "execution": {
          "iopub.status.busy": "2024-06-02T14:49:45.897899Z",
          "iopub.execute_input": "2024-06-02T14:49:45.898779Z",
          "iopub.status.idle": "2024-06-02T14:49:46.521171Z",
          "shell.execute_reply.started": "2024-06-02T14:49:45.898734Z",
          "shell.execute_reply": "2024-06-02T14:49:46.519825Z"
        },
        "trusted": true,
        "id": "5RQ1wykKBT-u"
      },
      "execution_count": null,
      "outputs": []
    },
    {
      "cell_type": "code",
      "source": [
        "\n",
        "'''\n",
        "def readData():\n",
        "    Age = int(input(\"Enter your Age \\n\"))\n",
        "    Gender = int(input(\"Enter your gender 1.Female 2.Male 3.Non-Binary\\n\"))\n",
        "    print(\"Enter your most used platform\")\n",
        "    print(\"[1.'FaceBook',2.'Instagram',3.'LinkedIN',4.'Snapchat',5.'Telegram',6.'Twitter',7.'WhatsApp']\")\n",
        "    Platform = int(input())\n",
        "    use_time = int(input(\"Enter avg daily use time in minutes\\n\"))\n",
        "    posts = int(input(\"Enter avg posts per day \\n\"))\n",
        "    likes = int(input(\"Enter avg likes per day\\n\"))\n",
        "    comments = int(input(\"Enter avg comments per day \\n\"))\n",
        "    messages = int(input(\"Enter avg messages sent received per day \\n\"))\n",
        "\n",
        "    x_custom_test = {\n",
        "        'Age': Age,\n",
        "        'Daily_Usage_Time (minutes)': use_time,\n",
        "        'Posts_Per_Day': posts,\n",
        "        'Likes_Received_Per_Day': likes,\n",
        "        'Comments_Received_Per_Day': comments,\n",
        "        'Messages_Sent_Per_Day': messages,\n",
        "        'Female': 1 if Gender == 1 else 0,\n",
        "        'Male': 1 if Gender == 2 else 0,\n",
        "        'Non-Binary': 1 if Gender == 3 else 0,\n",
        "        'FaceBook': 1 if Platform == 1 else 0,\n",
        "        'Instagram': 1 if Platform == 2 else 0,\n",
        "        'LinkedIN': 1 if Platform == 3 else 0,\n",
        "        'Snapchat': 1 if Platform == 4 else 0,\n",
        "        'Telegram': 1 if Platform == 5 else 0,\n",
        "        'Twitter': 1 if Platform == 6 else 0,\n",
        "        'WhatsApp': 1 if Platform == 7 else 0\n",
        "    }\n",
        "    custom_test = pd.DataFrame(x_custom_test, index=[0])\n",
        "    return rfc.predict(custom_test) '''\n"
      ],
      "metadata": {
        "execution": {
          "iopub.status.busy": "2024-06-02T14:49:46.522717Z",
          "iopub.execute_input": "2024-06-02T14:49:46.523052Z",
          "iopub.status.idle": "2024-06-02T14:49:46.535433Z",
          "shell.execute_reply.started": "2024-06-02T14:49:46.523022Z",
          "shell.execute_reply": "2024-06-02T14:49:46.533977Z"
        },
        "trusted": true,
        "id": "ZvTG3UAmBT-u"
      },
      "execution_count": null,
      "outputs": []
    },
    {
      "cell_type": "code",
      "source": [
        "'''# fun\n",
        "yes_no = int(input(\"Do you want to predict your Nature\"))\n",
        "#using random forest to predict data\n",
        "if(yes_no==1):\n",
        "    prediction= readData()\n",
        "    print(prediction)\n",
        "\n",
        "\n",
        "'''"
      ],
      "metadata": {
        "execution": {
          "iopub.status.busy": "2024-06-02T14:49:46.536807Z",
          "iopub.execute_input": "2024-06-02T14:49:46.537174Z",
          "iopub.status.idle": "2024-06-02T14:50:04.048777Z",
          "shell.execute_reply.started": "2024-06-02T14:49:46.537144Z",
          "shell.execute_reply": "2024-06-02T14:50:04.047375Z"
        },
        "trusted": true,
        "id": "MguWd5PlBT-v"
      },
      "execution_count": null,
      "outputs": []
    },
    {
      "cell_type": "markdown",
      "source": [
        "if you want to try the last part just open my google collab nb that i will soon share"
      ],
      "metadata": {
        "id": "gOxSVHAQBT-v"
      }
    }
  ]
}